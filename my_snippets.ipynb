{
  "nbformat": 4,
  "nbformat_minor": 0,
  "metadata": {
    "kernelspec": {
      "display_name": "Python 3",
      "language": "python",
      "name": "python3"
    },
    "language_info": {
      "codemirror_mode": {
        "name": "ipython",
        "version": 3
      },
      "file_extension": ".py",
      "mimetype": "text/x-python",
      "name": "python",
      "nbconvert_exporter": "python",
      "pygments_lexer": "ipython3",
      "version": "3.6.9"
    },
    "toc": {
      "colors": {
        "hover_highlight": "#DAA520",
        "navigate_num": "#000000",
        "navigate_text": "#333333",
        "running_highlight": "#FF0000",
        "selected_highlight": "#FFD700",
        "sidebar_border": "#EEEEEE",
        "wrapper_background": "#FFFFFF"
      },
      "moveMenuLeft": true,
      "nav_menu": {
        "height": "198px",
        "width": "252px"
      },
      "navigate_menu": true,
      "number_sections": true,
      "sideBar": true,
      "threshold": 4,
      "toc_cell": false,
      "toc_position": {
        "height": "783px",
        "left": "0px",
        "right": "1346.87px",
        "top": "108px",
        "width": "212px"
      },
      "toc_section_display": "block",
      "toc_window_display": true,
      "widenNotebook": false
    },
    "colab": {
      "name": "COMP9418_W03_Bayesian_Networks.ipynb",
      "provenance": [],
      "toc_visible": true
    }
  },
  "cells": [
    {
      "cell_type": "markdown",
      "metadata": {
        "id": "Eot07mI5XWaq"
      },
      "source": [
        "# Introduction\n",
        "The code in this notebook allows for some github integration.\n",
        "The information available here has been used extensively: https://medium.com/@purba0101/how-to-clone-private-github-repo-in-google-colab-using-ssh-77384cfef18f\n",
        "## Ideology\n"
      ]
    },
    {
      "cell_type": "markdown",
      "metadata": {
        "id": "xZZb3fYmYS50"
      },
      "source": [
        "# Initial Setup\n",
        "This code does not need to be re-run for other notebooks."
      ]
    },
    {
      "cell_type": "code",
      "metadata": {
        "id": "UyX3UdyD_UNy"
      },
      "source": [
        "email = \"jsjsrobert500@gmail.com\"\n",
        "github_user = \"Jaidon-Smith\"\n",
        "\n",
        "from google.colab import drive\n",
        "drive.mount('/content/drive')\n",
        "\n",
        "#!ssh-keygen -t rsa -b 4096\n",
        "!ssh-keygen -t rsa -b 4096 -C $email\n",
        "\n",
        "!ssh-keyscan -t rsa github.com >> ~/.ssh/known_hosts\n",
        "\n",
        "#Necessary for committing\n",
        "!git config --global user.email $email\n",
        "!git config --global user.name $github_user\n",
        "\n",
        "!mkdir \"/content/drive/My Drive/Colab Notebooks/github_integration\"\n",
        "\n",
        "# Copy the ssh folder from the root to your google drive\n",
        "!cp -R \"/root/.ssh\" \"/content/drive/My Drive/Colab Notebooks/github_integration/.ssh\"\n",
        "\n",
        "# Copy the gitconfig folder from the root to your google drive\n",
        "!cp \"/root/.gitconfig\" \"/content/drive/My Drive/Colab Notebooks/github_integration/\"\n",
        "\n",
        "# You will need to upload this key to github\n",
        "!cat /root/.ssh/id_rsa.pub"
      ],
      "execution_count": null,
      "outputs": []
    },
    {
      "cell_type": "markdown",
      "metadata": {
        "id": "5jLPr10DZccW"
      },
      "source": [
        "# GIT CLONE\n",
        "Clones a github repsitory\n",
        "This code can be copied into and run from new notebooks"
      ]
    },
    {
      "cell_type": "code",
      "metadata": {
        "id": "HXa_8yBvaL1H"
      },
      "source": [
        "colab_environment = True\n",
        "document_url = \"https://colab.research.google.com/github/Jaidon-Smith/Google-Colab-Github/blob/master/My%20Colab-Github%20Workflow/Setup.ipynb#scrollTo=HXa_8yBvaL1H\"\n",
        "\n",
        "if colab_environment:\n",
        "  #Get the github ssh command and cd directory from the document url\n",
        "  import urllib \n",
        "  document_url = urllib.parse.unquote(document_url)\n",
        "  repository_ssh = \"/\".join(document_url.split(\"github/\")[1].split(\"/\")[0:2])\n",
        "  repository_ssh = \"git@github.com:{}.git\".format(repository_ssh)\n",
        "  directory_name = \"/\".join(document_url.split(\"github/\")[1].split(\"/\")[4:-1])\n",
        "  # Mount google drive\n",
        "  from google.colab import drive\n",
        "  drive.mount('/content/drive')\n",
        "  # Copy the ssh folder from my google drive to the root\n",
        "  !cp -R \"/content/drive/My Drive/Colab Notebooks/github_integration/.ssh\" \"/root/\"\n",
        "  # Copy the gitconfig folder from my google drive to the root\n",
        "  !cp \"/content/drive/My Drive/Colab Notebooks/github_integration/.gitconfig\" \"/root/\"\n",
        "  # Clone repository into virtual macine hardrive\n",
        "  !git clone $repository_ssh\n",
        "  # cd into the directory\n",
        "  repository_name = repository_ssh.split(\"/\")[1].split(\".\")[0]\n",
        "  directory = \"/content/{}/{}\".format(repository_name, directory_name)\n",
        "  %cd $directory"
      ],
      "execution_count": null,
      "outputs": []
    },
    {
      "cell_type": "markdown",
      "metadata": {
        "id": "cAZDu1tpxeVR"
      },
      "source": [
        "# GIT PULL\n",
        "Having changed the repository elsewhere, you may pull to have changes relfected in this document"
      ]
    },
    {
      "cell_type": "code",
      "metadata": {
        "id": "7QNIqLVXyJr5"
      },
      "source": [
        "!git pull"
      ],
      "execution_count": null,
      "outputs": []
    }
  ]
}